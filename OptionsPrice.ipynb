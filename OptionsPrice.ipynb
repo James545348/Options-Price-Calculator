{
 "cells": [
  {
   "cell_type": "code",
   "execution_count": 17,
   "id": "febb7069-dfe7-4b16-8895-2fb11ccfb3e5",
   "metadata": {},
   "outputs": [],
   "source": [
    "import numpy as np\n",
    "from scipy.stats import norm"
   ]
  },
  {
   "cell_type": "code",
   "execution_count": 23,
   "id": "3f22c2aa-0950-483c-bf6b-c3dbf3caa4fb",
   "metadata": {},
   "outputs": [],
   "source": [
    "# Cell 2: Black-Scholes function\n",
    "def black_scholes(S, K, T, r, sigma, option_type):\n",
    "    d1 = (np.log(S / K) + (r + 0.5 * sigma ** 2) * T) / (sigma * np.sqrt(T))\n",
    "    d2 = d1 - sigma * np.sqrt(T)\n",
    "    \n",
    "    if option_type == 'call':\n",
    "        price = S * norm.cdf(d1) - K * np.exp(-r * T) * norm.cdf(d2)\n",
    "    elif option_type == 'put':\n",
    "        price = K * np.exp(-r * T) * norm.cdf(-d2) - S * norm.cdf(-d1)\n",
    "    else:\n",
    "        raise ValueError(\"option_type must be 'call' or 'put'\")\n",
    "    return price"
   ]
  },
  {
   "cell_type": "code",
   "execution_count": 24,
   "id": "a0fbc7a0-a76d-4a09-9e13-625380b4b824",
   "metadata": {},
   "outputs": [],
   "source": [
    "# Cell 3: Greeks calculator \n",
    "def calculate_greeks(S, K, T, r, sigma, option_type):\n",
    "    d1 = (np.log(S / K) + (r + 0.5 * sigma ** 2) * T) / (sigma * np.sqrt(T))\n",
    "    d2 = d1 - sigma * np.sqrt(T)\n",
    "    \n",
    "    # Simplified theta calculation\n",
    "    theta_call = (-(S*norm.pdf(d1)*sigma)/(2*np.sqrt(T)) - r*K*np.exp(-r*T)*norm.cdf(d2))/365\n",
    "    theta_put = (-(S*norm.pdf(d1)*sigma)/(2*np.sqrt(T)) + r*K*np.exp(-r*T)*norm.cdf(-d2))/365\n",
    "    \n",
    "    greeks = {\n",
    "        'delta': norm.cdf(d1) if option_type == 'call' else norm.cdf(d1)-1,\n",
    "        'gamma': norm.pdf(d1)/(S*sigma*np.sqrt(T)),\n",
    "        'vega': S*norm.pdf(d1)*np.sqrt(T)*0.01,\n",
    "        'theta': theta_call if option_type == 'call' else theta_put,\n",
    "        'rho': (K*T*np.exp(-r*T)*norm.cdf(d2)*0.01) if option_type == 'call' else (-K*T*np.exp(-r*T)*norm.cdf(-d2)*0.01)\n",
    "    }\n",
    "    return greeks"
   ]
  },
  {
   "cell_type": "code",
   "execution_count": 25,
   "id": "54ce5ef8-3e29-4017-8cef-59016f873261",
   "metadata": {},
   "outputs": [],
   "source": [
    "# Cell 4: Calculator Function\n",
    "def calculate_option_price():\n",
    "    print(\"Black-Scholes Option Price Calculator\")\n",
    "    print(\"-------------------------------------\")\n",
    "    \n",
    "    try:\n",
    "        S = float(input(\"Current stock price (S): \"))\n",
    "        K = float(input(\"Strike price (K): \"))\n",
    "        T = float(input(\"Time to maturity (years) (T): \"))\n",
    "        r = float(input(\"Risk-free interest rate (decimal) (r): \"))\n",
    "        sigma = float(input(\"Volatility (decimal) (sigma): \"))\n",
    "        option_type = input(\"Option type (call/put): \").lower()\n",
    "        \n",
    "        price = black_scholes(S, K, T, r, sigma, option_type)\n",
    "        greeks = calculate_greeks(S, K, T, r, sigma, option_type)\n",
    "        \n",
    "        print(f\"\\nThe {option_type} option price is: {price:.4f}\")\n",
    "        print(\"\\nGreeks:\")\n",
    "        print(f\"Delta: {greeks['delta']:.4f} (price change per $1 stock move)\")\n",
    "        print(f\"Gamma: {greeks['gamma']:.6f} (delta change per $1 stock move)\")\n",
    "        print(f\"Vega: {greeks['vega']:.4f} (price change per 1% vol increase)\")\n",
    "        print(f\"Theta: {greeks['theta']:.4f} (price decay per day)\")\n",
    "        print(f\"Rho: {greeks['rho']:.4f} (price change per 1% rate increase)\")\n",
    "        \n",
    "    except ValueError as e:\n",
    "        print(f\"\\nError: {e}. Please enter valid inputs.\")"
   ]
  },
  {
   "cell_type": "code",
   "execution_count": 26,
   "id": "99e6af0e-ede3-461a-b746-025afcabbb53",
   "metadata": {},
   "outputs": [
    {
     "name": "stdout",
     "output_type": "stream",
     "text": [
      "Black-Scholes Option Price Calculator\n",
      "-------------------------------------\n"
     ]
    },
    {
     "name": "stdin",
     "output_type": "stream",
     "text": [
      "Current stock price (S):  100\n",
      "Strike price (K):  100\n",
      "Time to maturity (years) (T):  1\n",
      "Risk-free interest rate (decimal) (r):  0.05\n",
      "Volatility (decimal) (sigma):  0.2\n",
      "Option type (call/put):  call\n"
     ]
    },
    {
     "name": "stdout",
     "output_type": "stream",
     "text": [
      "\n",
      "The call option price is: 10.4506\n",
      "\n",
      "Greeks:\n",
      "Delta: 0.6368 (price change per $1 stock move)\n",
      "Gamma: 0.018762 (delta change per $1 stock move)\n",
      "Vega: 0.3752 (price change per 1% vol increase)\n",
      "Theta: -0.0176 (price decay per day)\n",
      "Rho: 0.5323 (price change per 1% rate increase)\n"
     ]
    }
   ],
   "source": [
    "calculate_option_price()"
   ]
  }
 ],
 "metadata": {
  "kernelspec": {
   "display_name": "Python 3 (ipykernel)",
   "language": "python",
   "name": "python3"
  },
  "language_info": {
   "codemirror_mode": {
    "name": "ipython",
    "version": 3
   },
   "file_extension": ".py",
   "mimetype": "text/x-python",
   "name": "python",
   "nbconvert_exporter": "python",
   "pygments_lexer": "ipython3",
   "version": "3.13.2"
  }
 },
 "nbformat": 4,
 "nbformat_minor": 5
}
